{
 "cells": [
  {
   "cell_type": "code",
   "execution_count": 17,
   "metadata": {},
   "outputs": [
    {
     "name": "stdout",
     "output_type": "stream",
     "text": [
      "print 10 marks\n"
     ]
    }
   ],
   "source": [
    "class Subject:\n",
    "    def __init__(self,english,maths,science,social):\n",
    "        self.english=english\n",
    "        self.maths=maths\n",
    "        self.social=social\n",
    "        self.science=science\n",
    "    def english_1(self):\n",
    "        print(f\"print {self.english} marks\")\n",
    "    def maths_1(self):\n",
    "        print(f\"print {self.maths} marks\")\n",
    "    def social_1(self):\n",
    "        print(f\"print {self.social} marks\")\n",
    "    def science_1(self):\n",
    "        print(f\"print {self.science} marks\")\n",
    "\n",
    "marks=Subject(10,20,30,40)\n",
    "marks.english_1()\n",
    "   "
   ]
  },
  {
   "cell_type": "code",
   "execution_count": null,
   "metadata": {},
   "outputs": [],
   "source": [
    "class Subject:\n",
    "    def __init__(self,english,maths,social,science):\n",
    "        self.english2=english\n",
    "        self.maths=maths\n",
    "        self.social=social\n",
    "        self.science=science\n",
    "    \n",
    "    def english_marks(self):\n",
    "        print(f\"marks for english {self.english2}\")\n",
    "    \n",
    "    def maths_marks(self):\n",
    "        print(f\"marks for maths {self.maths}\")\n",
    "        \n",
    "    def social_marks(self):\n",
    "        print(f\"marks for social {self.social}\")\n",
    "    \n",
    "    def science_marks(self):\n",
    "        print(f\"marks for science {self.science}\")"
   ]
  },
  {
   "cell_type": "code",
   "execution_count": 34,
   "metadata": {},
   "outputs": [],
   "source": [
    "class User:\n",
    "    \"\"\"user profile display and greeting\"\"\"\n",
    "    def __init__(self,first_name,last_name,gender,age):\n",
    "        self.first_name=first_name\n",
    "        self.last_name=last_name\n",
    "        self.gender=gender\n",
    "        self.age=age\n",
    "        self.subject='Python'\n",
    "    \n",
    "    def describe_user(self):\n",
    "        \"\"\"display user profile\"\"\"\n",
    "        print(f\"details of user:\\n fullname: {self.first_name + self.last_name}\\n gender:{self.gender}\\n age:{self.age}\\n subject {self.subject} \")\n",
    "    \n",
    "    def greet_user(self):\n",
    "        \"\"\"greet user\"\"\"\n",
    "        print(f\"Hey {self.first_name + self.last_name}\")"
   ]
  },
  {
   "cell_type": "code",
   "execution_count": 35,
   "metadata": {},
   "outputs": [],
   "source": [
    "user1=User('Steven','raj','M',23)"
   ]
  },
  {
   "cell_type": "code",
   "execution_count": 36,
   "metadata": {},
   "outputs": [
    {
     "name": "stdout",
     "output_type": "stream",
     "text": [
      "Hey Stevenraj\n"
     ]
    }
   ],
   "source": [
    "user1.greet_user()"
   ]
  },
  {
   "cell_type": "code",
   "execution_count": 37,
   "metadata": {},
   "outputs": [
    {
     "name": "stdout",
     "output_type": "stream",
     "text": [
      "details of user:\n",
      " fullname: Stevenraj\n",
      " gender:M\n",
      " age:23\n",
      " subject Python \n"
     ]
    }
   ],
   "source": [
    "user1.describe_user()"
   ]
  },
  {
   "cell_type": "code",
   "execution_count": 38,
   "metadata": {},
   "outputs": [],
   "source": [
    "user2=User('brad','pitt','F',56)"
   ]
  },
  {
   "cell_type": "code",
   "execution_count": 39,
   "metadata": {},
   "outputs": [
    {
     "name": "stdout",
     "output_type": "stream",
     "text": [
      "Hey bradpitt\n"
     ]
    }
   ],
   "source": [
    "user2.greet_user()"
   ]
  },
  {
   "cell_type": "code",
   "execution_count": 40,
   "metadata": {},
   "outputs": [
    {
     "name": "stdout",
     "output_type": "stream",
     "text": [
      "details of user:\n",
      " fullname: bradpitt\n",
      " gender:F\n",
      " age:56\n",
      " subject Python \n"
     ]
    }
   ],
   "source": [
    "user2.describe_user()"
   ]
  },
  {
   "cell_type": "code",
   "execution_count": 66,
   "metadata": {},
   "outputs": [],
   "source": [
    "class User:\n",
    "    \"\"\"user profile display and greeting\"\"\"\n",
    "    def __init__(self,first_name,last_name,gender,age):\n",
    "        self.first_name=first_name\n",
    "        self.last_name=last_name\n",
    "        self.gender=gender\n",
    "        self.age=age\n",
    "        self.subject='Python'\n",
    "        self.login_count=0\n",
    "    \n",
    "    def describe_user(self):\n",
    "        \"\"\"display user profile\"\"\"\n",
    "        print(f\"details of user:\\n fullname: {self.first_name + self.last_name}\\n gender:{self.gender}\\n age:{self.age}\\n subject {self.subject} \")\n",
    "    \n",
    "    def greet_user(self):\n",
    "        \"\"\"greet user\"\"\"\n",
    "        print(f\"Hey {self.first_name + self.last_name}\")\n",
    "    \n",
    "    def increment_login_attempts(self):\n",
    "        \"\"\"increment the login attempts when this method is called\"\"\"\n",
    "        self.login_count=self.login_count+1\n",
    "        print(f\"number of login attempts {self.login_count}\")\n",
    "    \n",
    "    def reset_login_attempts(self):\n",
    "        \"\"\"resets the login attempt value to zero\"\"\"\n",
    "        self.login_count=0\n",
    "        print(f\"reset valuecout {self.login_count}\")\n",
    "        "
   ]
  },
  {
   "cell_type": "code",
   "execution_count": 67,
   "metadata": {},
   "outputs": [],
   "source": [
    "user3=User('Steven','raj','M',23)"
   ]
  },
  {
   "cell_type": "code",
   "execution_count": 73,
   "metadata": {},
   "outputs": [
    {
     "name": "stdout",
     "output_type": "stream",
     "text": [
      "number of login attempts 6\n"
     ]
    }
   ],
   "source": [
    "user3.increment_login_attempts()"
   ]
  },
  {
   "cell_type": "code",
   "execution_count": 74,
   "metadata": {},
   "outputs": [
    {
     "name": "stdout",
     "output_type": "stream",
     "text": [
      "reset valuecout 0\n"
     ]
    }
   ],
   "source": [
    "user3.reset_login_attempts()"
   ]
  },
  {
   "cell_type": "code",
   "execution_count": 75,
   "metadata": {},
   "outputs": [
    {
     "name": "stdout",
     "output_type": "stream",
     "text": [
      "number of login attempts 1\n"
     ]
    }
   ],
   "source": [
    "user3.increment_login_attempts()"
   ]
  },
  {
   "cell_type": "code",
   "execution_count": 54,
   "metadata": {},
   "outputs": [],
   "source": [
    "user4=User('srikanth','raj','M',21)"
   ]
  },
  {
   "cell_type": "code",
   "execution_count": null,
   "metadata": {},
   "outputs": [],
   "source": [
    "vijay = 0 rupees\n",
    "\n",
    "family = 500 crores 85 years  1 ,2,3,4,5,6"
   ]
  },
  {
   "cell_type": "code",
   "execution_count": null,
   "metadata": {},
   "outputs": [],
   "source": [
    "raju = 500 crores\n",
    "     = 100 crores\n",
    "       600 crores"
   ]
  },
  {
   "cell_type": "code",
   "execution_count": null,
   "metadata": {},
   "outputs": [],
   "source": [
    "class User: # super class or parent class\n",
    "        self.first_name=first_name\n",
    "        self.last_name=last_name\n",
    "        self.gender=gender\n",
    "        self.age=age\n",
    "        self.subject='Python'\n",
    "        self.login_count=0 \n",
    "def describe_user(self)\n",
    "def greet_user(self):\n",
    "def increment_login_attempts(self):\n",
    "def reset_login_attempts(self):\n",
    "\n",
    "class UserChild(User): # subclass or child class "
   ]
  },
  {
   "cell_type": "code",
   "execution_count": 6,
   "metadata": {},
   "outputs": [],
   "source": [
    "class Car:\n",
    "    \"\"\"car class to be represented here\"\"\"\n",
    "    def __init__(self,model,color,year,plant_name):\n",
    "        self.model=model\n",
    "        self.color=color\n",
    "        self.year=year\n",
    "        self.plant_name=plant_name\n",
    "        self.odometer_reading=0\n",
    "    \n",
    "    def get_descriptive_name(self):\n",
    "        full_name=f\"{self.plant_name} {self.model} {self.color}\"\n",
    "        return full_name.title()\n",
    "    \n",
    "    def read_odometer(self):\n",
    "        print(f\"odometer reading {self.odometer_reading}\")\n",
    "    \n",
    "    def update_odometer(self,mileage):\n",
    "        if mileage>=self.odometer_reading:\n",
    "            self.odometer_reading=mileage\n",
    "        else:\n",
    "            print(\"odometer reading cant be decreased\")\n",
    "            \n",
    "    def increment_odometer(self,miles):\n",
    "        self.odometer_reading+=miles"
   ]
  },
  {
   "cell_type": "code",
   "execution_count": 7,
   "metadata": {},
   "outputs": [],
   "source": [
    "car1=Car('swift','white',2022,'hyderabad')"
   ]
  },
  {
   "cell_type": "code",
   "execution_count": 8,
   "metadata": {},
   "outputs": [
    {
     "data": {
      "text/plain": [
       "'Hyderabad Swift White'"
      ]
     },
     "execution_count": 8,
     "metadata": {},
     "output_type": "execute_result"
    }
   ],
   "source": [
    "car1.get_descriptive_name()"
   ]
  },
  {
   "cell_type": "code",
   "execution_count": 9,
   "metadata": {},
   "outputs": [
    {
     "name": "stdout",
     "output_type": "stream",
     "text": [
      "odometer reading 0\n"
     ]
    }
   ],
   "source": [
    "car1.read_odometer()"
   ]
  },
  {
   "cell_type": "code",
   "execution_count": 11,
   "metadata": {},
   "outputs": [],
   "source": [
    "car1.increment_odometer(100)"
   ]
  },
  {
   "cell_type": "code",
   "execution_count": 12,
   "metadata": {},
   "outputs": [
    {
     "name": "stdout",
     "output_type": "stream",
     "text": [
      "odometer reading 200\n"
     ]
    }
   ],
   "source": [
    "car1.read_odometer()"
   ]
  },
  {
   "cell_type": "code",
   "execution_count": 13,
   "metadata": {},
   "outputs": [
    {
     "name": "stdout",
     "output_type": "stream",
     "text": [
      "odometer reading cant be decreased\n"
     ]
    }
   ],
   "source": [
    "car1.update_odometer(50)"
   ]
  },
  {
   "cell_type": "code",
   "execution_count": 28,
   "metadata": {},
   "outputs": [],
   "source": [
    "class Car:\n",
    "    \"\"\"car class to be represented here\"\"\"\n",
    "    def __init__(self,model,color,year,plant_name):\n",
    "        self.model=model\n",
    "        self.color=color\n",
    "        self.year=year\n",
    "        self.plant_name=plant_name\n",
    "        self.odometer_reading=0\n",
    "    \n",
    "    def get_descriptive_name(self):\n",
    "        full_name=f\"{self.plant_name} {self.model} {self.color}\"\n",
    "        return full_name.title()\n",
    "    \n",
    "    def read_odometer(self):\n",
    "        print(f\"odometer reading {self.odometer_reading}\")\n",
    "    \n",
    "    def update_odometer(self,mileage):\n",
    "        if mileage>=self.odometer_reading:\n",
    "            self.odometer_reading=mileage\n",
    "        else:\n",
    "            print(\"odometer reading cant be decreased\")\n",
    "            \n",
    "    def increment_odometer(self,miles):\n",
    "        self.odometer_reading+=miles\n",
    "        \n",
    "class ElectricCar(Car):\n",
    "    def __init__(self,model,color,year,plant_name):\n",
    "        super().__init__(model,color,year,plant_name)\n",
    "\n",
    "#car1=Car('swift','white',2022,'hyderabad')  #SUper class object\n",
    "\n",
    "#Ecar1=ElectricCar('swift','white',2022,'hyderabad')  #subclass object\n",
    "\n"
   ]
  },
  {
   "cell_type": "code",
   "execution_count": 29,
   "metadata": {},
   "outputs": [],
   "source": [
    "car1=Car('swift','white',2022,'hyderabad')"
   ]
  },
  {
   "cell_type": "code",
   "execution_count": 31,
   "metadata": {},
   "outputs": [],
   "source": [
    "Ecar1=ElectricCar('Tesla','black',2020,'CA')"
   ]
  },
  {
   "cell_type": "code",
   "execution_count": 32,
   "metadata": {},
   "outputs": [
    {
     "data": {
      "text/plain": [
       "'Ca Tesla Black'"
      ]
     },
     "execution_count": 32,
     "metadata": {},
     "output_type": "execute_result"
    }
   ],
   "source": [
    "Ecar1.get_descriptive_name()"
   ]
  },
  {
   "cell_type": "code",
   "execution_count": 33,
   "metadata": {},
   "outputs": [
    {
     "data": {
      "text/plain": [
       "'Hyderabad Swift White'"
      ]
     },
     "execution_count": 33,
     "metadata": {},
     "output_type": "execute_result"
    }
   ],
   "source": [
    "car1.get_descriptive_name()"
   ]
  },
  {
   "cell_type": "code",
   "execution_count": 39,
   "metadata": {},
   "outputs": [
    {
     "name": "stdout",
     "output_type": "stream",
     "text": [
      "this car has 100 kWh battery\n",
      "Hyderabad Tesla White\n"
     ]
    }
   ],
   "source": [
    "class Car:\n",
    "    \"\"\"car class to be represented here\"\"\"\n",
    "    def __init__(self,model,color,year,plant_name):\n",
    "        self.model=model\n",
    "        self.color=color\n",
    "        self.year=year\n",
    "        self.plant_name=plant_name\n",
    "        self.odometer_reading=0\n",
    "    \n",
    "    def get_descriptive_name(self):\n",
    "        full_name=f\"{self.plant_name} {self.model} {self.color}\"\n",
    "        return full_name.title()\n",
    "    \n",
    "    def read_odometer(self):\n",
    "        print(f\"odometer reading {self.odometer_reading}\")\n",
    "    \n",
    "    def update_odometer(self,mileage):\n",
    "        if mileage>=self.odometer_reading:\n",
    "            self.odometer_reading=mileage\n",
    "        else:\n",
    "            print(\"odometer reading cant be decreased\")\n",
    "            \n",
    "    def increment_odometer(self,miles):\n",
    "        self.odometer_reading+=miles\n",
    "        \n",
    "class ElectricCar(Car):\n",
    "    def __init__(self,model,color,year,plant_name):\n",
    "        super().__init__(model,color,year,plant_name)\n",
    "        self.battery_size=100\n",
    "        \n",
    "    def describe_battery(self):\n",
    "        print(f\"this car has {self.battery_size} kWh battery\")\n",
    "        \n",
    "    def get_descriptive_name(self):\n",
    "        full_name=f\"fgfsfdsgfdsg{self.plant_name} {self.model} {self.color}\"\n",
    "        return full_name.title()\n",
    "        \n",
    "Ecar1=ElectricCar('tesla','white',2022,'hyderabad') \n",
    "Ecar1.describe_battery()\n",
    "print(Ecar1.get_descriptive_name())\n",
    "\n",
    "\n",
    "        \n",
    "#car1=Car('Swift','red',2020,'hyderabad') \n",
    "\n",
    "#print(car1.get_descriptive_name())\n",
    "#car1.describe_battery()\n",
    "        \n",
    "        \n",
    "        \n",
    "        \n",
    "        \n",
    "        \n",
    "        \n",
    "        \n",
    "        \n",
    "        \n",
    "        \n",
    "        \n",
    "\n",
    "#car1=Car('swift','white',2022,'hyderabad')  #SUper class object\n",
    "\n",
    "#Ecar1=ElectricCar('swift','white',2022,'hyderabad')  #subclass object\n",
    "\n"
   ]
  },
  {
   "cell_type": "code",
   "execution_count": null,
   "metadata": {},
   "outputs": [],
   "source": [
    "overriding"
   ]
  },
  {
   "cell_type": "code",
   "execution_count": 46,
   "metadata": {},
   "outputs": [
    {
     "name": "stdout",
     "output_type": "stream",
     "text": [
      "this car has 100 kWh battery\n",
      "Hyderabad Tesla White\n",
      "This car doesnt need petrol\n",
      "Hyderabad Swift Red\n",
      "tank is getting filled\n"
     ]
    }
   ],
   "source": [
    "class Car:\n",
    "    \"\"\"car class to be represented here\"\"\"\n",
    "    def __init__(self,model,color,year,plant_name):\n",
    "        self.model=model\n",
    "        self.color=color\n",
    "        self.year=year\n",
    "        self.plant_name=plant_name\n",
    "        self.odometer_reading=0\n",
    "    \n",
    "    def get_descriptive_name(self):\n",
    "        full_name=f\"{self.plant_name} {self.model} {self.color}\"\n",
    "        return full_name.title()\n",
    "    \n",
    "    def read_odometer(self):\n",
    "        print(f\"odometer reading {self.odometer_reading}\")\n",
    "    \n",
    "    def update_odometer(self,mileage):\n",
    "        if mileage>=self.odometer_reading:\n",
    "            self.odometer_reading=mileage\n",
    "        else:\n",
    "            print(\"odometer reading cant be decreased\")\n",
    "            \n",
    "    def increment_odometer(self,miles):\n",
    "        self.odometer_reading+=miles\n",
    "        \n",
    "    def fill_petrol_tank(self):\n",
    "        print(\"tank is getting filled\")\n",
    "        \n",
    "class ElectricCar(Car):\n",
    "    def __init__(self,model,color,year,plant_name):\n",
    "        super().__init__(model,color,year,plant_name)\n",
    "        self.battery_size=100\n",
    "        \n",
    "    def describe_battery(self):\n",
    "        print(f\"this car has {self.battery_size} kWh battery\")\n",
    "    \n",
    "    def fill_petrol_tank(self):\n",
    "        print(\"This car doesnt need petrol\")\n",
    "  \n",
    "        \n",
    "Ecar1=ElectricCar('tesla','white',2022,'hyderabad') \n",
    "Ecar1.describe_battery()\n",
    "print(Ecar1.get_descriptive_name())\n",
    "Ecar1.fill_petrol_tank()\n",
    "\n",
    "\n",
    "        \n",
    "car1=Car('Swift','red',2020,'hyderabad') \n",
    "\n",
    "print(car1.get_descriptive_name())\n",
    "car1.fill_petrol_tank()\n",
    "        \n",
    "        \n",
    "        \n",
    "        \n",
    "        \n",
    "        \n",
    "        \n",
    "        \n",
    "        \n",
    "        \n",
    "        \n",
    "        \n",
    "\n",
    "#car1=Car('swift','white',2022,'hyderabad')  #SUper class object\n",
    "\n",
    "#Ecar1=ElectricCar('swift','white',2022,'hyderabad')  #subclass object\n",
    "\n"
   ]
  },
  {
   "cell_type": "code",
   "execution_count": 49,
   "metadata": {},
   "outputs": [],
   "source": [
    "class Car:\n",
    "    \"\"\"car class to be represented here\"\"\"\n",
    "    def __init__(self,model,color,year,plant_name):\n",
    "        self.model=model\n",
    "        self.color=color\n",
    "        self.year=year\n",
    "        self.plant_name=plant_name\n",
    "        self.odometer_reading=0\n",
    "    \n",
    "    def get_descriptive_name(self):\n",
    "        full_name=f\"{self.plant_name} {self.model} {self.color}\"\n",
    "        return full_name.title()\n",
    "    \n",
    "    def read_odometer(self):\n",
    "        print(f\"odometer reading {self.odometer_reading}\")\n",
    "    \n",
    "    def update_odometer(self,mileage):\n",
    "        if mileage>=self.odometer_reading:\n",
    "            self.odometer_reading=mileage\n",
    "        else:\n",
    "            print(\"odometer reading cant be decreased\")\n",
    "            \n",
    "    def increment_odometer(self,miles):\n",
    "        self.odometer_reading+=miles\n",
    "        \n",
    "    def fill_petrol_tank(self):\n",
    "        print(\"tank is getting filled\")\n",
    "        \n",
    "class Battery:\n",
    "    \"\"\"parameters of a battery\"\"\"+\n",
    "    def __init__(self,battery_size=75):\n",
    "        self.battery_size=battery_size\n",
    "    \n",
    "    def describe_battery(self):\n",
    "        print(f\"this car has {self.battery_size} kWh battery\")\n",
    "    \n",
    "class ElectricCar(Car):\n",
    "    def __init__(self,model,color,year,plant_name):\n",
    "        super().__init__(model,color,year,plant_name)\n",
    "        self.battery=Battery()\n",
    "        \n",
    "    \n",
    "    def fill_petrol_tank(self):\n",
    "        print(\"This car doesnt need petrol\")"
   ]
  },
  {
   "cell_type": "code",
   "execution_count": 50,
   "metadata": {},
   "outputs": [],
   "source": [
    "Ecar1=ElectricCar('tesla','white',2022,'hyderabad') "
   ]
  },
  {
   "cell_type": "code",
   "execution_count": 51,
   "metadata": {},
   "outputs": [
    {
     "name": "stdout",
     "output_type": "stream",
     "text": [
      "this car has 75 kWh battery\n"
     ]
    }
   ],
   "source": [
    "Ecar1.battery.describe_battery()"
   ]
  },
  {
   "cell_type": "code",
   "execution_count": null,
   "metadata": {},
   "outputs": [],
   "source": [
    "Electriccar \"Has a\" battery --has a \n",
    " Car \"Has a\" electric car --inherticane\n",
    "\n",
    "    \n",
    "    IS A REATIONSHIP"
   ]
  }
 ],
 "metadata": {
  "kernelspec": {
   "display_name": "Python 3",
   "language": "python",
   "name": "python3"
  },
  "language_info": {
   "codemirror_mode": {
    "name": "ipython",
    "version": 3
   },
   "file_extension": ".py",
   "mimetype": "text/x-python",
   "name": "python",
   "nbconvert_exporter": "python",
   "pygments_lexer": "ipython3",
   "version": "3.7.6"
  }
 },
 "nbformat": 4,
 "nbformat_minor": 4
}
