{
 "cells": [
  {
   "cell_type": "code",
   "execution_count": 17,
   "metadata": {},
   "outputs": [
    {
     "name": "stdout",
     "output_type": "stream",
     "text": [
      "print 10 marks\n"
     ]
    }
   ],
   "source": [
    "class Subject:\n",
    "    def __init__(self,english,maths,science,social):\n",
    "        self.english=english\n",
    "        self.maths=maths\n",
    "        self.social=social\n",
    "        self.science=science\n",
    "    def english_1(self):\n",
    "        print(f\"print {self.english} marks\")\n",
    "    def maths_1(self):\n",
    "        print(f\"print {self.maths} marks\")\n",
    "    def social_1(self):\n",
    "        print(f\"print {self.social} marks\")\n",
    "    def science_1(self):\n",
    "        print(f\"print {self.science} marks\")\n",
    "\n",
    "marks=Subject(10,20,30,40)\n",
    "marks.english_1()\n",
    "   "
   ]
  },
  {
   "cell_type": "code",
   "execution_count": null,
   "metadata": {},
   "outputs": [],
   "source": [
    "class Subject:\n",
    "    def __init__(self,english,maths,social,science):\n",
    "        self.english2=english\n",
    "        self.maths=maths\n",
    "        self.social=social\n",
    "        self.science=science\n",
    "    \n",
    "    def english_marks(self):\n",
    "        print(f\"marks for english {self.english2}\")\n",
    "    \n",
    "    def maths_marks(self):\n",
    "        print(f\"marks for maths {self.maths}\")\n",
    "        \n",
    "    def social_marks(self):\n",
    "        print(f\"marks for social {self.social}\")\n",
    "    \n",
    "    def science_marks(self):\n",
    "        print(f\"marks for science {self.science}\")"
   ]
  },
  {
   "cell_type": "code",
   "execution_count": null,
   "metadata": {},
   "outputs": [],
   "source": []
  }
 ],
 "metadata": {
  "kernelspec": {
   "display_name": "Python 3",
   "language": "python",
   "name": "python3"
  },
  "language_info": {
   "codemirror_mode": {
    "name": "ipython",
    "version": 3
   },
   "file_extension": ".py",
   "mimetype": "text/x-python",
   "name": "python",
   "nbconvert_exporter": "python",
   "pygments_lexer": "ipython3",
   "version": "3.7.6"
  }
 },
 "nbformat": 4,
 "nbformat_minor": 4
}
